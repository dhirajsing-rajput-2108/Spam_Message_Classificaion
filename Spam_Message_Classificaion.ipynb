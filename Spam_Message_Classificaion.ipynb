{
  "cells": [
    {
      "cell_type": "markdown",
      "metadata": {
        "id": "view-in-github",
        "colab_type": "text"
      },
      "source": [
        "<a href=\"https://colab.research.google.com/github/dhirajsing-rajput-2108/Spam_Message_Classificaion/blob/main/Spam_Message_Classificaion.ipynb\" target=\"_parent\"><img src=\"https://colab.research.google.com/assets/colab-badge.svg\" alt=\"Open In Colab\"/></a>"
      ]
    },
    {
      "cell_type": "markdown",
      "id": "388733a5-3e47-4a92-991d-68f63f0daece",
      "metadata": {
        "id": "388733a5-3e47-4a92-991d-68f63f0daece"
      },
      "source": [
        "**1. Data Preprocessing**"
      ]
    },
    {
      "cell_type": "code",
      "execution_count": null,
      "id": "de182d31-bd21-45e9-85de-d905e0d23bb8",
      "metadata": {
        "id": "de182d31-bd21-45e9-85de-d905e0d23bb8"
      },
      "outputs": [],
      "source": [
        "import numpy\n",
        "import matplotlib.pyplot as plt\n",
        "import pandas as pd"
      ]
    },
    {
      "cell_type": "code",
      "execution_count": null,
      "id": "a585d224-9678-41ba-92f0-f63f36eb252d",
      "metadata": {
        "id": "a585d224-9678-41ba-92f0-f63f36eb252d"
      },
      "outputs": [],
      "source": [
        "df = pd.read_csv(\"C:/Users/2261397/Downloads/spam (1).tsv\", sep=\"\\t\")"
      ]
    },
    {
      "cell_type": "code",
      "execution_count": null,
      "id": "225dc5d3-5bc3-4327-a775-f1081b516d30",
      "metadata": {
        "id": "225dc5d3-5bc3-4327-a775-f1081b516d30",
        "outputId": "c6cb1aa0-66a7-496b-f9e0-187bc223a039"
      },
      "outputs": [
        {
          "data": {
            "text/html": [
              "<div>\n",
              "<style scoped>\n",
              "    .dataframe tbody tr th:only-of-type {\n",
              "        vertical-align: middle;\n",
              "    }\n",
              "\n",
              "    .dataframe tbody tr th {\n",
              "        vertical-align: top;\n",
              "    }\n",
              "\n",
              "    .dataframe thead th {\n",
              "        text-align: right;\n",
              "    }\n",
              "</style>\n",
              "<table border=\"1\" class=\"dataframe\">\n",
              "  <thead>\n",
              "    <tr style=\"text-align: right;\">\n",
              "      <th></th>\n",
              "      <th>label</th>\n",
              "      <th>message</th>\n",
              "      <th>length</th>\n",
              "      <th>punct</th>\n",
              "    </tr>\n",
              "  </thead>\n",
              "  <tbody>\n",
              "    <tr>\n",
              "      <th>0</th>\n",
              "      <td>ham</td>\n",
              "      <td>Go until jurong point, crazy.. Available only ...</td>\n",
              "      <td>111</td>\n",
              "      <td>9</td>\n",
              "    </tr>\n",
              "    <tr>\n",
              "      <th>1</th>\n",
              "      <td>ham</td>\n",
              "      <td>Ok lar... Joking wif u oni...</td>\n",
              "      <td>29</td>\n",
              "      <td>6</td>\n",
              "    </tr>\n",
              "    <tr>\n",
              "      <th>2</th>\n",
              "      <td>spam</td>\n",
              "      <td>Free entry in 2 a wkly comp to win FA Cup fina...</td>\n",
              "      <td>155</td>\n",
              "      <td>6</td>\n",
              "    </tr>\n",
              "    <tr>\n",
              "      <th>3</th>\n",
              "      <td>ham</td>\n",
              "      <td>U dun say so early hor... U c already then say...</td>\n",
              "      <td>49</td>\n",
              "      <td>6</td>\n",
              "    </tr>\n",
              "    <tr>\n",
              "      <th>4</th>\n",
              "      <td>ham</td>\n",
              "      <td>Nah I don't think he goes to usf, he lives aro...</td>\n",
              "      <td>61</td>\n",
              "      <td>2</td>\n",
              "    </tr>\n",
              "  </tbody>\n",
              "</table>\n",
              "</div>"
            ],
            "text/plain": [
              "  label                                            message  length  punct\n",
              "0   ham  Go until jurong point, crazy.. Available only ...     111      9\n",
              "1   ham                      Ok lar... Joking wif u oni...      29      6\n",
              "2  spam  Free entry in 2 a wkly comp to win FA Cup fina...     155      6\n",
              "3   ham  U dun say so early hor... U c already then say...      49      6\n",
              "4   ham  Nah I don't think he goes to usf, he lives aro...      61      2"
            ]
          },
          "execution_count": 4,
          "metadata": {},
          "output_type": "execute_result"
        }
      ],
      "source": [
        "df.head()"
      ]
    },
    {
      "cell_type": "code",
      "execution_count": null,
      "id": "60a61f52-bde7-4249-9f01-a4b4cfeafddb",
      "metadata": {
        "id": "60a61f52-bde7-4249-9f01-a4b4cfeafddb",
        "outputId": "42086748-b267-4cac-c6fa-d6a28c0a2de1"
      },
      "outputs": [
        {
          "data": {
            "text/plain": [
              "label      0\n",
              "message    0\n",
              "length     0\n",
              "punct      0\n",
              "dtype: int64"
            ]
          },
          "execution_count": 5,
          "metadata": {},
          "output_type": "execute_result"
        }
      ],
      "source": [
        "df.isna().sum()"
      ]
    },
    {
      "cell_type": "code",
      "execution_count": null,
      "id": "6b817cd3-50a4-47a3-a324-6aaab591a0c7",
      "metadata": {
        "id": "6b817cd3-50a4-47a3-a324-6aaab591a0c7",
        "outputId": "44181307-4bf9-47a2-aaff-b0990a59cd8e"
      },
      "outputs": [
        {
          "data": {
            "text/html": [
              "<div>\n",
              "<style scoped>\n",
              "    .dataframe tbody tr th:only-of-type {\n",
              "        vertical-align: middle;\n",
              "    }\n",
              "\n",
              "    .dataframe tbody tr th {\n",
              "        vertical-align: top;\n",
              "    }\n",
              "\n",
              "    .dataframe thead th {\n",
              "        text-align: right;\n",
              "    }\n",
              "</style>\n",
              "<table border=\"1\" class=\"dataframe\">\n",
              "  <thead>\n",
              "    <tr style=\"text-align: right;\">\n",
              "      <th></th>\n",
              "      <th>label</th>\n",
              "      <th>message</th>\n",
              "      <th>length</th>\n",
              "      <th>punct</th>\n",
              "    </tr>\n",
              "  </thead>\n",
              "  <tbody>\n",
              "    <tr>\n",
              "      <th>5567</th>\n",
              "      <td>spam</td>\n",
              "      <td>This is the 2nd time we have tried 2 contact u...</td>\n",
              "      <td>160</td>\n",
              "      <td>8</td>\n",
              "    </tr>\n",
              "    <tr>\n",
              "      <th>5568</th>\n",
              "      <td>ham</td>\n",
              "      <td>Will ü b going to esplanade fr home?</td>\n",
              "      <td>36</td>\n",
              "      <td>1</td>\n",
              "    </tr>\n",
              "    <tr>\n",
              "      <th>5569</th>\n",
              "      <td>ham</td>\n",
              "      <td>Pity, * was in mood for that. So...any other s...</td>\n",
              "      <td>57</td>\n",
              "      <td>7</td>\n",
              "    </tr>\n",
              "    <tr>\n",
              "      <th>5570</th>\n",
              "      <td>ham</td>\n",
              "      <td>The guy did some bitching but I acted like i'd...</td>\n",
              "      <td>125</td>\n",
              "      <td>1</td>\n",
              "    </tr>\n",
              "    <tr>\n",
              "      <th>5571</th>\n",
              "      <td>ham</td>\n",
              "      <td>Rofl. Its true to its name</td>\n",
              "      <td>26</td>\n",
              "      <td>1</td>\n",
              "    </tr>\n",
              "  </tbody>\n",
              "</table>\n",
              "</div>"
            ],
            "text/plain": [
              "     label                                            message  length  punct\n",
              "5567  spam  This is the 2nd time we have tried 2 contact u...     160      8\n",
              "5568   ham               Will ü b going to esplanade fr home?      36      1\n",
              "5569   ham  Pity, * was in mood for that. So...any other s...      57      7\n",
              "5570   ham  The guy did some bitching but I acted like i'd...     125      1\n",
              "5571   ham                         Rofl. Its true to its name      26      1"
            ]
          },
          "execution_count": 6,
          "metadata": {},
          "output_type": "execute_result"
        }
      ],
      "source": [
        "df.tail()"
      ]
    },
    {
      "cell_type": "code",
      "execution_count": null,
      "id": "d28e1ced-6314-4c97-94c5-a4529dea968f",
      "metadata": {
        "id": "d28e1ced-6314-4c97-94c5-a4529dea968f",
        "outputId": "0f6fec8d-93e5-4297-c65a-8f55c344dd6f"
      },
      "outputs": [
        {
          "data": {
            "text/html": [
              "<div>\n",
              "<style scoped>\n",
              "    .dataframe tbody tr th:only-of-type {\n",
              "        vertical-align: middle;\n",
              "    }\n",
              "\n",
              "    .dataframe tbody tr th {\n",
              "        vertical-align: top;\n",
              "    }\n",
              "\n",
              "    .dataframe thead th {\n",
              "        text-align: right;\n",
              "    }\n",
              "</style>\n",
              "<table border=\"1\" class=\"dataframe\">\n",
              "  <thead>\n",
              "    <tr style=\"text-align: right;\">\n",
              "      <th></th>\n",
              "      <th>length</th>\n",
              "      <th>punct</th>\n",
              "    </tr>\n",
              "  </thead>\n",
              "  <tbody>\n",
              "    <tr>\n",
              "      <th>count</th>\n",
              "      <td>5572.000000</td>\n",
              "      <td>5572.000000</td>\n",
              "    </tr>\n",
              "    <tr>\n",
              "      <th>mean</th>\n",
              "      <td>80.489950</td>\n",
              "      <td>4.177495</td>\n",
              "    </tr>\n",
              "    <tr>\n",
              "      <th>std</th>\n",
              "      <td>59.942907</td>\n",
              "      <td>4.623919</td>\n",
              "    </tr>\n",
              "    <tr>\n",
              "      <th>min</th>\n",
              "      <td>2.000000</td>\n",
              "      <td>0.000000</td>\n",
              "    </tr>\n",
              "    <tr>\n",
              "      <th>25%</th>\n",
              "      <td>36.000000</td>\n",
              "      <td>2.000000</td>\n",
              "    </tr>\n",
              "    <tr>\n",
              "      <th>50%</th>\n",
              "      <td>62.000000</td>\n",
              "      <td>3.000000</td>\n",
              "    </tr>\n",
              "    <tr>\n",
              "      <th>75%</th>\n",
              "      <td>122.000000</td>\n",
              "      <td>6.000000</td>\n",
              "    </tr>\n",
              "    <tr>\n",
              "      <th>max</th>\n",
              "      <td>910.000000</td>\n",
              "      <td>133.000000</td>\n",
              "    </tr>\n",
              "  </tbody>\n",
              "</table>\n",
              "</div>"
            ],
            "text/plain": [
              "            length        punct\n",
              "count  5572.000000  5572.000000\n",
              "mean     80.489950     4.177495\n",
              "std      59.942907     4.623919\n",
              "min       2.000000     0.000000\n",
              "25%      36.000000     2.000000\n",
              "50%      62.000000     3.000000\n",
              "75%     122.000000     6.000000\n",
              "max     910.000000   133.000000"
            ]
          },
          "execution_count": 7,
          "metadata": {},
          "output_type": "execute_result"
        }
      ],
      "source": [
        " df.describe()"
      ]
    },
    {
      "cell_type": "code",
      "execution_count": null,
      "id": "d0ecaea7-5e39-48fd-9331-fc75c7596b27",
      "metadata": {
        "id": "d0ecaea7-5e39-48fd-9331-fc75c7596b27",
        "outputId": "6a052af1-cb77-4efd-df17-73af851fddd0"
      },
      "outputs": [
        {
          "data": {
            "text/plain": [
              "label\n",
              "ham     86.593683\n",
              "spam    13.406317\n",
              "Name: count, dtype: float64"
            ]
          },
          "execution_count": 8,
          "metadata": {},
          "output_type": "execute_result"
        }
      ],
      "source": [
        "df[\"label\"].value_counts()/len(df)*100"
      ]
    },
    {
      "cell_type": "code",
      "execution_count": null,
      "id": "82aa7497-2e9c-4263-a220-d1ee2839ed93",
      "metadata": {
        "id": "82aa7497-2e9c-4263-a220-d1ee2839ed93"
      },
      "outputs": [],
      "source": [
        "ham= df[df[\"label\"]==\"ham\"]\n",
        "spam=df[df[\"label\"]==\"spam\"]"
      ]
    },
    {
      "cell_type": "code",
      "execution_count": null,
      "id": "8ffb7d22-0207-4c93-ad2e-02ab6e5de5eb",
      "metadata": {
        "id": "8ffb7d22-0207-4c93-ad2e-02ab6e5de5eb",
        "outputId": "76f0f421-baaa-409c-f4e8-96bf92d07912"
      },
      "outputs": [
        {
          "data": {
            "text/plain": [
              "((4825, 4), (747, 4))"
            ]
          },
          "execution_count": 10,
          "metadata": {},
          "output_type": "execute_result"
        }
      ],
      "source": [
        "ham.shape , spam.shape"
      ]
    },
    {
      "cell_type": "code",
      "execution_count": null,
      "id": "2a86f4c5-7b6b-42da-af6b-0f07ec604fcf",
      "metadata": {
        "id": "2a86f4c5-7b6b-42da-af6b-0f07ec604fcf"
      },
      "outputs": [],
      "source": [
        "ham=ham.sample(spam.shape[0])"
      ]
    },
    {
      "cell_type": "code",
      "execution_count": null,
      "id": "32e5a0c5-d09d-4b5c-86d5-1eb99062f6d2",
      "metadata": {
        "id": "32e5a0c5-d09d-4b5c-86d5-1eb99062f6d2",
        "outputId": "98e44ae6-2c0d-4239-ae9b-eccc15d856e2"
      },
      "outputs": [
        {
          "data": {
            "text/plain": [
              "((747, 4), (747, 4))"
            ]
          },
          "execution_count": 12,
          "metadata": {},
          "output_type": "execute_result"
        }
      ],
      "source": [
        "ham.shape , spam.shape"
      ]
    },
    {
      "cell_type": "code",
      "execution_count": null,
      "id": "7f6bc8fa-7057-4e3c-ab90-1ebc89f297d6",
      "metadata": {
        "id": "7f6bc8fa-7057-4e3c-ab90-1ebc89f297d6"
      },
      "outputs": [],
      "source": [
        "data = ham._append(spam, ignore_index=True)"
      ]
    },
    {
      "cell_type": "code",
      "execution_count": null,
      "id": "f8f760b1-be87-4599-bcf3-100705f79f1e",
      "metadata": {
        "id": "f8f760b1-be87-4599-bcf3-100705f79f1e",
        "outputId": "8d4a6412-9934-4e9e-e8c5-21742284900c"
      },
      "outputs": [
        {
          "data": {
            "text/plain": [
              "(1494, 4)"
            ]
          },
          "execution_count": 14,
          "metadata": {},
          "output_type": "execute_result"
        }
      ],
      "source": [
        "data.shape"
      ]
    },
    {
      "cell_type": "code",
      "execution_count": null,
      "id": "12f3dcb5-c1c3-4401-b1cf-177f38ae5a7e",
      "metadata": {
        "id": "12f3dcb5-c1c3-4401-b1cf-177f38ae5a7e",
        "outputId": "41a909fd-1869-4ffa-e201-0dfecc67651d"
      },
      "outputs": [
        {
          "data": {
            "text/plain": [
              "label\n",
              "ham     747\n",
              "spam    747\n",
              "Name: count, dtype: int64"
            ]
          },
          "execution_count": 15,
          "metadata": {},
          "output_type": "execute_result"
        }
      ],
      "source": [
        "data[\"label\"].value_counts()"
      ]
    },
    {
      "cell_type": "code",
      "execution_count": null,
      "id": "f1f951ff-c890-45d0-ad5c-8e7a60c8b316",
      "metadata": {
        "id": "f1f951ff-c890-45d0-ad5c-8e7a60c8b316",
        "outputId": "8522f804-7143-43ae-8a0f-83ae4b042533"
      },
      "outputs": [
        {
          "data": {
            "text/html": [
              "<div>\n",
              "<style scoped>\n",
              "    .dataframe tbody tr th:only-of-type {\n",
              "        vertical-align: middle;\n",
              "    }\n",
              "\n",
              "    .dataframe tbody tr th {\n",
              "        vertical-align: top;\n",
              "    }\n",
              "\n",
              "    .dataframe thead th {\n",
              "        text-align: right;\n",
              "    }\n",
              "</style>\n",
              "<table border=\"1\" class=\"dataframe\">\n",
              "  <thead>\n",
              "    <tr style=\"text-align: right;\">\n",
              "      <th></th>\n",
              "      <th>label</th>\n",
              "      <th>message</th>\n",
              "      <th>length</th>\n",
              "      <th>punct</th>\n",
              "    </tr>\n",
              "  </thead>\n",
              "  <tbody>\n",
              "    <tr>\n",
              "      <th>0</th>\n",
              "      <td>ham</td>\n",
              "      <td>Eek that's a lot of time especially since Amer...</td>\n",
              "      <td>103</td>\n",
              "      <td>4</td>\n",
              "    </tr>\n",
              "    <tr>\n",
              "      <th>1</th>\n",
              "      <td>ham</td>\n",
              "      <td>Huh? 6 also cannot? Then only how many mistakes?</td>\n",
              "      <td>48</td>\n",
              "      <td>3</td>\n",
              "    </tr>\n",
              "    <tr>\n",
              "      <th>2</th>\n",
              "      <td>ham</td>\n",
              "      <td>No we sell it all so we'll have tons if coins....</td>\n",
              "      <td>126</td>\n",
              "      <td>6</td>\n",
              "    </tr>\n",
              "    <tr>\n",
              "      <th>3</th>\n",
              "      <td>ham</td>\n",
              "      <td>I asked you to call him now ok</td>\n",
              "      <td>30</td>\n",
              "      <td>0</td>\n",
              "    </tr>\n",
              "    <tr>\n",
              "      <th>4</th>\n",
              "      <td>ham</td>\n",
              "      <td>Were somewhere on Fredericksburg</td>\n",
              "      <td>32</td>\n",
              "      <td>0</td>\n",
              "    </tr>\n",
              "  </tbody>\n",
              "</table>\n",
              "</div>"
            ],
            "text/plain": [
              "  label                                            message  length  punct\n",
              "0   ham  Eek that's a lot of time especially since Amer...     103      4\n",
              "1   ham   Huh? 6 also cannot? Then only how many mistakes?      48      3\n",
              "2   ham  No we sell it all so we'll have tons if coins....     126      6\n",
              "3   ham                     I asked you to call him now ok      30      0\n",
              "4   ham                   Were somewhere on Fredericksburg      32      0"
            ]
          },
          "execution_count": 16,
          "metadata": {},
          "output_type": "execute_result"
        }
      ],
      "source": [
        "data.head()"
      ]
    },
    {
      "cell_type": "code",
      "execution_count": null,
      "id": "35506d57-57e9-4ef4-a075-60fcec5cd188",
      "metadata": {
        "id": "35506d57-57e9-4ef4-a075-60fcec5cd188",
        "outputId": "51c1cb07-adcc-469c-dee0-cd5e6d1d567a"
      },
      "outputs": [
        {
          "data": {
            "image/png": "[encoded data removed]",
            "text/plain": [
              "<Figure size 640x480 with 1 Axes>"
            ]
          },
          "metadata": {},
          "output_type": "display_data"
        }
      ],
      "source": [
        "plt.hist(data[data[\"label\"]==\"ham\"]['length'],bins=100,alpha=0.7)\n",
        "plt.hist(data[data[\"label\"]==\"spam\"]['length'],bins=100,alpha=0.7)\n",
        "plt.show()"
      ]
    },
    {
      "cell_type": "code",
      "execution_count": null,
      "id": "17dac538-9bd7-408e-aa0a-91712a5ec1b7",
      "metadata": {
        "id": "17dac538-9bd7-408e-aa0a-91712a5ec1b7",
        "outputId": "e138aa12-f731-42eb-f0ac-355fc7c2e657"
      },
      "outputs": [
        {
          "data": {
            "image/png": "[encoded data removed]",
            "text/plain": [
              "<Figure size 640x480 with 1 Axes>"
            ]
          },
          "metadata": {},
          "output_type": "display_data"
        }
      ],
      "source": [
        "plt.hist(data[data[\"label\"]==\"ham\"]['punct'],bins=100,alpha=0.7)\n",
        "plt.hist(data[data[\"label\"]==\"spam\"]['punct'],bins=100,alpha=0.7)\n",
        "plt.show()"
      ]
    },
    {
      "cell_type": "markdown",
      "id": "2973a2d9-19f0-4de0-9509-0279dcdb6628",
      "metadata": {
        "id": "2973a2d9-19f0-4de0-9509-0279dcdb6628"
      },
      "source": [
        "**2. Spilt Data in Traning and Testing**"
      ]
    },
    {
      "cell_type": "code",
      "execution_count": null,
      "id": "b07eb130-02b4-4093-91d7-c7b24deac825",
      "metadata": {
        "id": "b07eb130-02b4-4093-91d7-c7b24deac825"
      },
      "outputs": [],
      "source": [
        "from sklearn.model_selection import train_test_split"
      ]
    },
    {
      "cell_type": "code",
      "execution_count": null,
      "id": "49d7e708-d3b7-4bf4-a71a-3ea5cc7d4291",
      "metadata": {
        "id": "49d7e708-d3b7-4bf4-a71a-3ea5cc7d4291",
        "outputId": "4b81b6e3-429f-4490-ca2b-9a699623ffc5"
      },
      "outputs": [
        {
          "data": {
            "text/html": [
              "<div>\n",
              "<style scoped>\n",
              "    .dataframe tbody tr th:only-of-type {\n",
              "        vertical-align: middle;\n",
              "    }\n",
              "\n",
              "    .dataframe tbody tr th {\n",
              "        vertical-align: top;\n",
              "    }\n",
              "\n",
              "    .dataframe thead th {\n",
              "        text-align: right;\n",
              "    }\n",
              "</style>\n",
              "<table border=\"1\" class=\"dataframe\">\n",
              "  <thead>\n",
              "    <tr style=\"text-align: right;\">\n",
              "      <th></th>\n",
              "      <th>label</th>\n",
              "      <th>message</th>\n",
              "      <th>length</th>\n",
              "      <th>punct</th>\n",
              "    </tr>\n",
              "  </thead>\n",
              "  <tbody>\n",
              "    <tr>\n",
              "      <th>0</th>\n",
              "      <td>ham</td>\n",
              "      <td>Eek that's a lot of time especially since Amer...</td>\n",
              "      <td>103</td>\n",
              "      <td>4</td>\n",
              "    </tr>\n",
              "    <tr>\n",
              "      <th>1</th>\n",
              "      <td>ham</td>\n",
              "      <td>Huh? 6 also cannot? Then only how many mistakes?</td>\n",
              "      <td>48</td>\n",
              "      <td>3</td>\n",
              "    </tr>\n",
              "    <tr>\n",
              "      <th>2</th>\n",
              "      <td>ham</td>\n",
              "      <td>No we sell it all so we'll have tons if coins....</td>\n",
              "      <td>126</td>\n",
              "      <td>6</td>\n",
              "    </tr>\n",
              "    <tr>\n",
              "      <th>3</th>\n",
              "      <td>ham</td>\n",
              "      <td>I asked you to call him now ok</td>\n",
              "      <td>30</td>\n",
              "      <td>0</td>\n",
              "    </tr>\n",
              "    <tr>\n",
              "      <th>4</th>\n",
              "      <td>ham</td>\n",
              "      <td>Were somewhere on Fredericksburg</td>\n",
              "      <td>32</td>\n",
              "      <td>0</td>\n",
              "    </tr>\n",
              "    <tr>\n",
              "      <th>...</th>\n",
              "      <td>...</td>\n",
              "      <td>...</td>\n",
              "      <td>...</td>\n",
              "      <td>...</td>\n",
              "    </tr>\n",
              "    <tr>\n",
              "      <th>1489</th>\n",
              "      <td>spam</td>\n",
              "      <td>Want explicit SEX in 30 secs? Ring 02073162414...</td>\n",
              "      <td>90</td>\n",
              "      <td>3</td>\n",
              "    </tr>\n",
              "    <tr>\n",
              "      <th>1490</th>\n",
              "      <td>spam</td>\n",
              "      <td>ASKED 3MOBILE IF 0870 CHATLINES INCLU IN FREE ...</td>\n",
              "      <td>158</td>\n",
              "      <td>5</td>\n",
              "    </tr>\n",
              "    <tr>\n",
              "      <th>1491</th>\n",
              "      <td>spam</td>\n",
              "      <td>Had your contract mobile 11 Mnths? Latest Moto...</td>\n",
              "      <td>160</td>\n",
              "      <td>8</td>\n",
              "    </tr>\n",
              "    <tr>\n",
              "      <th>1492</th>\n",
              "      <td>spam</td>\n",
              "      <td>REMINDER FROM O2: To get 2.50 pounds free call...</td>\n",
              "      <td>147</td>\n",
              "      <td>3</td>\n",
              "    </tr>\n",
              "    <tr>\n",
              "      <th>1493</th>\n",
              "      <td>spam</td>\n",
              "      <td>This is the 2nd time we have tried 2 contact u...</td>\n",
              "      <td>160</td>\n",
              "      <td>8</td>\n",
              "    </tr>\n",
              "  </tbody>\n",
              "</table>\n",
              "<p>1494 rows × 4 columns</p>\n",
              "</div>"
            ],
            "text/plain": [
              "     label                                            message  length  punct\n",
              "0      ham  Eek that's a lot of time especially since Amer...     103      4\n",
              "1      ham   Huh? 6 also cannot? Then only how many mistakes?      48      3\n",
              "2      ham  No we sell it all so we'll have tons if coins....     126      6\n",
              "3      ham                     I asked you to call him now ok      30      0\n",
              "4      ham                   Were somewhere on Fredericksburg      32      0\n",
              "...    ...                                                ...     ...    ...\n",
              "1489  spam  Want explicit SEX in 30 secs? Ring 02073162414...      90      3\n",
              "1490  spam  ASKED 3MOBILE IF 0870 CHATLINES INCLU IN FREE ...     158      5\n",
              "1491  spam  Had your contract mobile 11 Mnths? Latest Moto...     160      8\n",
              "1492  spam  REMINDER FROM O2: To get 2.50 pounds free call...     147      3\n",
              "1493  spam  This is the 2nd time we have tried 2 contact u...     160      8\n",
              "\n",
              "[1494 rows x 4 columns]"
            ]
          },
          "execution_count": 21,
          "metadata": {},
          "output_type": "execute_result"
        }
      ],
      "source": [
        "data"
      ]
    },
    {
      "cell_type": "code",
      "execution_count": null,
      "id": "3a7b36a9-7cdf-4ef6-ac86-b81a39df1fda",
      "metadata": {
        "id": "3a7b36a9-7cdf-4ef6-ac86-b81a39df1fda"
      },
      "outputs": [],
      "source": [
        "x_train, x_tets , y_train, y_test = train_test_split(data[\"message\"], data[\"label\"], test_size = 0.3 ,random_state=0,shuffle=True)"
      ]
    },
    {
      "cell_type": "code",
      "execution_count": null,
      "id": "cfd87a7c-e404-4ed8-8984-9480b984c5c1",
      "metadata": {
        "id": "cfd87a7c-e404-4ed8-8984-9480b984c5c1",
        "outputId": "bcf7b633-cb8c-4498-cb16-5807d66be03c"
      },
      "outputs": [
        {
          "data": {
            "text/plain": [
              "((1045,), (449,))"
            ]
          },
          "execution_count": 25,
          "metadata": {},
          "output_type": "execute_result"
        }
      ],
      "source": [
        "x_train.shape , x_tets.shape"
      ]
    },
    {
      "cell_type": "markdown",
      "id": "7ea769c4-8e71-49cf-8de3-0af626887742",
      "metadata": {
        "id": "7ea769c4-8e71-49cf-8de3-0af626887742"
      },
      "source": [
        "**3. Building the model(Random Forest)**"
      ]
    },
    {
      "cell_type": "code",
      "execution_count": null,
      "id": "8bd8c98c-f396-4ddc-a1b5-390137b41d49",
      "metadata": {
        "id": "8bd8c98c-f396-4ddc-a1b5-390137b41d49"
      },
      "outputs": [],
      "source": [
        "from sklearn.feature_extraction.text import TfidfVectorizer\n",
        "from sklearn.ensemble import RandomForestClassifier\n",
        "from sklearn.pipeline import Pipeline\n"
      ]
    },
    {
      "cell_type": "code",
      "execution_count": null,
      "id": "f2f70798-9774-42aa-8eb7-915a9d4b3ff6",
      "metadata": {
        "id": "f2f70798-9774-42aa-8eb7-915a9d4b3ff6"
      },
      "outputs": [],
      "source": [
        "classifier=Pipeline([(\"Tfidf\",TfidfVectorizer()),(\"classifier\",RandomForestClassifier(n_estimators=100))])"
      ]
    },
    {
      "cell_type": "code",
      "execution_count": null,
      "id": "26857e6b-cf4f-48a8-8d01-7c8f5b0b5b61",
      "metadata": {
        "id": "26857e6b-cf4f-48a8-8d01-7c8f5b0b5b61",
        "outputId": "eab781bd-ca2d-4c91-ae38-47f63e53da0c"
      },
      "outputs": [
        {
          "data": {
            "text/html": [
              "<style>#sk-container-id-1 {color: black;}#sk-container-id-1 pre{padding: 0;}#sk-container-id-1 div.sk-toggleable {background-color: white;}#sk-container-id-1 label.sk-toggleable__label {cursor: pointer;display: block;width: 100%;margin-bottom: 0;padding: 0.3em;box-sizing: border-box;text-align: center;}#sk-container-id-1 label.sk-toggleable__label-arrow:before {content: \"▸\";float: left;margin-right: 0.25em;color: #696969;}#sk-container-id-1 label.sk-toggleable__label-arrow:hover:before {color: black;}#sk-container-id-1 div.sk-estimator:hover label.sk-toggleable__label-arrow:before {color: black;}#sk-container-id-1 div.sk-toggleable__content {max-height: 0;max-width: 0;overflow: hidden;text-align: left;background-color: #f0f8ff;}#sk-container-id-1 div.sk-toggleable__content pre {margin: 0.2em;color: black;border-radius: 0.25em;background-color: #f0f8ff;}#sk-container-id-1 input.sk-toggleable__control:checked~div.sk-toggleable__content {max-height: 200px;max-width: 100%;overflow: auto;}#sk-container-id-1 input.sk-toggleable__control:checked~label.sk-toggleable__label-arrow:before {content: \"▾\";}#sk-container-id-1 div.sk-estimator input.sk-toggleable__control:checked~label.sk-toggleable__label {background-color: #d4ebff;}#sk-container-id-1 div.sk-label input.sk-toggleable__control:checked~label.sk-toggleable__label {background-color: #d4ebff;}#sk-container-id-1 input.sk-hidden--visually {border: 0;clip: rect(1px 1px 1px 1px);clip: rect(1px, 1px, 1px, 1px);height: 1px;margin: -1px;overflow: hidden;padding: 0;position: absolute;width: 1px;}#sk-container-id-1 div.sk-estimator {font-family: monospace;background-color: #f0f8ff;border: 1px dotted black;border-radius: 0.25em;box-sizing: border-box;margin-bottom: 0.5em;}#sk-container-id-1 div.sk-estimator:hover {background-color: #d4ebff;}#sk-container-id-1 div.sk-parallel-item::after {content: \"\";width: 100%;border-bottom: 1px solid gray;flex-grow: 1;}#sk-container-id-1 div.sk-label:hover label.sk-toggleable__label {background-color: #d4ebff;}#sk-container-id-1 div.sk-serial::before {content: \"\";position: absolute;border-left: 1px solid gray;box-sizing: border-box;top: 0;bottom: 0;left: 50%;z-index: 0;}#sk-container-id-1 div.sk-serial {display: flex;flex-direction: column;align-items: center;background-color: white;padding-right: 0.2em;padding-left: 0.2em;position: relative;}#sk-container-id-1 div.sk-item {position: relative;z-index: 1;}#sk-container-id-1 div.sk-parallel {display: flex;align-items: stretch;justify-content: center;background-color: white;position: relative;}#sk-container-id-1 div.sk-item::before, #sk-container-id-1 div.sk-parallel-item::before {content: \"\";position: absolute;border-left: 1px solid gray;box-sizing: border-box;top: 0;bottom: 0;left: 50%;z-index: -1;}#sk-container-id-1 div.sk-parallel-item {display: flex;flex-direction: column;z-index: 1;position: relative;background-color: white;}#sk-container-id-1 div.sk-parallel-item:first-child::after {align-self: flex-end;width: 50%;}#sk-container-id-1 div.sk-parallel-item:last-child::after {align-self: flex-start;width: 50%;}#sk-container-id-1 div.sk-parallel-item:only-child::after {width: 0;}#sk-container-id-1 div.sk-dashed-wrapped {border: 1px dashed gray;margin: 0 0.4em 0.5em 0.4em;box-sizing: border-box;padding-bottom: 0.4em;background-color: white;}#sk-container-id-1 div.sk-label label {font-family: monospace;font-weight: bold;display: inline-block;line-height: 1.2em;}#sk-container-id-1 div.sk-label-container {text-align: center;}#sk-container-id-1 div.sk-container {/* jupyter's `normalize.less` sets `[hidden] { display: none; }` but bootstrap.min.css set `[hidden] { display: none !important; }` so we also need the `!important` here to be able to override the default hidden behavior on the sphinx rendered scikit-learn.org. See: https://github.com/scikit-learn/scikit-learn/issues/21755 */display: inline-block !important;position: relative;}#sk-container-id-1 div.sk-text-repr-fallback {display: none;}</style><div id=\"sk-container-id-1\" class=\"sk-top-container\"><div class=\"sk-text-repr-fallback\"><pre>Pipeline(steps=[(&#x27;Tfidf&#x27;, TfidfVectorizer()),\n",
              "                (&#x27;classifier&#x27;, RandomForestClassifier())])</pre><b>In a Jupyter environment, please rerun this cell to show the HTML representation or trust the notebook. <br />On GitHub, the HTML representation is unable to render, please try loading this page with nbviewer.org.</b></div><div class=\"sk-container\" hidden><div class=\"sk-item sk-dashed-wrapped\"><div class=\"sk-label-container\"><div class=\"sk-label sk-toggleable\"><input class=\"sk-toggleable__control sk-hidden--visually\" id=\"sk-estimator-id-1\" type=\"checkbox\" ><label for=\"sk-estimator-id-1\" class=\"sk-toggleable__label sk-toggleable__label-arrow\">Pipeline</label><div class=\"sk-toggleable__content\"><pre>Pipeline(steps=[(&#x27;Tfidf&#x27;, TfidfVectorizer()),\n",
              "                (&#x27;classifier&#x27;, RandomForestClassifier())])</pre></div></div></div><div class=\"sk-serial\"><div class=\"sk-item\"><div class=\"sk-estimator sk-toggleable\"><input class=\"sk-toggleable__control sk-hidden--visually\" id=\"sk-estimator-id-2\" type=\"checkbox\" ><label for=\"sk-estimator-id-2\" class=\"sk-toggleable__label sk-toggleable__label-arrow\">TfidfVectorizer</label><div class=\"sk-toggleable__content\"><pre>TfidfVectorizer()</pre></div></div></div><div class=\"sk-item\"><div class=\"sk-estimator sk-toggleable\"><input class=\"sk-toggleable__control sk-hidden--visually\" id=\"sk-estimator-id-3\" type=\"checkbox\" ><label for=\"sk-estimator-id-3\" class=\"sk-toggleable__label sk-toggleable__label-arrow\">RandomForestClassifier</label><div class=\"sk-toggleable__content\"><pre>RandomForestClassifier()</pre></div></div></div></div></div></div></div>"
            ],
            "text/plain": [
              "Pipeline(steps=[('Tfidf', TfidfVectorizer()),\n",
              "                ('classifier', RandomForestClassifier())])"
            ]
          },
          "execution_count": 33,
          "metadata": {},
          "output_type": "execute_result"
        }
      ],
      "source": [
        "classifier.fit(x_train,y_train)"
      ]
    },
    {
      "cell_type": "markdown",
      "id": "4426d7d6-4a23-4e6b-9eff-25521922ad6f",
      "metadata": {
        "id": "4426d7d6-4a23-4e6b-9eff-25521922ad6f"
      },
      "source": [
        "**4. Predicting the Model(Rnadom Forest)**"
      ]
    },
    {
      "cell_type": "code",
      "execution_count": null,
      "id": "ec358637-e1f1-44bb-92d9-c15f8aff88fa",
      "metadata": {
        "id": "ec358637-e1f1-44bb-92d9-c15f8aff88fa"
      },
      "outputs": [],
      "source": [
        "y_pred = classifier.predict(x_tets)"
      ]
    },
    {
      "cell_type": "code",
      "execution_count": null,
      "id": "f8573b1d-710c-4e0a-8cb2-e676a7cdc6ef",
      "metadata": {
        "id": "f8573b1d-710c-4e0a-8cb2-e676a7cdc6ef",
        "outputId": "63d3b15b-10ce-4606-c59c-08cd971df786"
      },
      "outputs": [
        {
          "data": {
            "text/plain": [
              "(799     spam\n",
              " 1047    spam\n",
              " 1436    spam\n",
              " 54       ham\n",
              " 793     spam\n",
              "         ... \n",
              " 824     spam\n",
              " 822     spam\n",
              " 644      ham\n",
              " 1034    spam\n",
              " 1356    spam\n",
              " Name: label, Length: 449, dtype: object,\n",
              " array(['spam', 'spam', 'spam', 'ham', 'spam', 'spam', 'ham', 'ham', 'ham',\n",
              "        'ham', 'spam', 'ham', 'ham', 'spam', 'spam', 'spam', 'spam', 'ham',\n",
              "        'spam', 'spam', 'spam', 'spam', 'spam', 'spam', 'ham', 'spam',\n",
              "        'ham', 'ham', 'spam', 'ham', 'ham', 'spam', 'spam', 'spam', 'spam',\n",
              "        'spam', 'ham', 'ham', 'ham', 'ham', 'ham', 'ham', 'spam', 'ham',\n",
              "        'ham', 'spam', 'ham', 'ham', 'spam', 'spam', 'ham', 'ham', 'ham',\n",
              "        'spam', 'spam', 'spam', 'ham', 'ham', 'spam', 'ham', 'ham', 'ham',\n",
              "        'ham', 'spam', 'spam', 'ham', 'ham', 'ham', 'spam', 'spam', 'spam',\n",
              "        'spam', 'spam', 'ham', 'ham', 'spam', 'spam', 'ham', 'ham', 'ham',\n",
              "        'spam', 'ham', 'ham', 'ham', 'ham', 'spam', 'spam', 'ham', 'spam',\n",
              "        'ham', 'ham', 'spam', 'ham', 'ham', 'spam', 'spam', 'spam', 'ham',\n",
              "        'ham', 'ham', 'spam', 'ham', 'ham', 'spam', 'ham', 'ham', 'ham',\n",
              "        'ham', 'spam', 'spam', 'spam', 'ham', 'ham', 'ham', 'ham', 'spam',\n",
              "        'spam', 'ham', 'spam', 'ham', 'ham', 'ham', 'ham', 'ham', 'ham',\n",
              "        'ham', 'ham', 'ham', 'ham', 'spam', 'ham', 'spam', 'spam', 'ham',\n",
              "        'spam', 'spam', 'spam', 'spam', 'spam', 'spam', 'ham', 'ham',\n",
              "        'ham', 'ham', 'ham', 'spam', 'spam', 'spam', 'ham', 'spam', 'ham',\n",
              "        'spam', 'ham', 'spam', 'ham', 'ham', 'spam', 'ham', 'ham', 'ham',\n",
              "        'ham', 'ham', 'ham', 'spam', 'spam', 'ham', 'ham', 'ham', 'ham',\n",
              "        'ham', 'ham', 'spam', 'spam', 'ham', 'spam', 'ham', 'spam', 'ham',\n",
              "        'ham', 'ham', 'spam', 'ham', 'spam', 'spam', 'spam', 'spam',\n",
              "        'spam', 'ham', 'ham', 'ham', 'ham', 'ham', 'ham', 'ham', 'ham',\n",
              "        'spam', 'ham', 'spam', 'spam', 'spam', 'ham', 'spam', 'ham', 'ham',\n",
              "        'spam', 'ham', 'spam', 'spam', 'spam', 'spam', 'ham', 'ham', 'ham',\n",
              "        'ham', 'ham', 'ham', 'ham', 'spam', 'spam', 'spam', 'ham', 'ham',\n",
              "        'spam', 'spam', 'ham', 'ham', 'spam', 'ham', 'spam', 'spam', 'ham',\n",
              "        'ham', 'ham', 'ham', 'spam', 'spam', 'spam', 'spam', 'ham', 'spam',\n",
              "        'spam', 'spam', 'ham', 'ham', 'spam', 'spam', 'ham', 'ham', 'ham',\n",
              "        'spam', 'spam', 'ham', 'ham', 'ham', 'ham', 'spam', 'spam', 'ham',\n",
              "        'ham', 'spam', 'ham', 'spam', 'spam', 'ham', 'spam', 'ham', 'ham',\n",
              "        'spam', 'ham', 'spam', 'ham', 'ham', 'spam', 'ham', 'spam', 'spam',\n",
              "        'spam', 'ham', 'spam', 'ham', 'spam', 'spam', 'ham', 'spam', 'ham',\n",
              "        'spam', 'spam', 'ham', 'spam', 'spam', 'spam', 'ham', 'spam',\n",
              "        'spam', 'ham', 'ham', 'spam', 'ham', 'ham', 'ham', 'spam', 'spam',\n",
              "        'spam', 'ham', 'ham', 'ham', 'ham', 'ham', 'spam', 'spam', 'ham',\n",
              "        'ham', 'spam', 'spam', 'spam', 'spam', 'ham', 'spam', 'spam',\n",
              "        'spam', 'ham', 'ham', 'ham', 'ham', 'spam', 'ham', 'ham', 'spam',\n",
              "        'spam', 'ham', 'spam', 'ham', 'spam', 'ham', 'ham', 'ham', 'spam',\n",
              "        'ham', 'spam', 'ham', 'spam', 'ham', 'spam', 'spam', 'spam', 'ham',\n",
              "        'ham', 'spam', 'spam', 'ham', 'ham', 'spam', 'spam', 'ham', 'ham',\n",
              "        'ham', 'ham', 'spam', 'ham', 'ham', 'ham', 'spam', 'ham', 'ham',\n",
              "        'spam', 'spam', 'spam', 'ham', 'ham', 'ham', 'ham', 'spam', 'ham',\n",
              "        'spam', 'ham', 'ham', 'ham', 'spam', 'ham', 'ham', 'ham', 'ham',\n",
              "        'spam', 'spam', 'ham', 'spam', 'spam', 'spam', 'ham', 'ham',\n",
              "        'spam', 'ham', 'ham', 'spam', 'ham', 'ham', 'ham', 'ham', 'spam',\n",
              "        'ham', 'ham', 'spam', 'ham', 'ham', 'spam', 'ham', 'ham', 'spam',\n",
              "        'spam', 'spam', 'ham', 'spam', 'spam', 'ham', 'ham', 'spam',\n",
              "        'spam', 'spam', 'ham', 'ham', 'ham', 'spam', 'spam', 'ham', 'spam',\n",
              "        'ham', 'ham', 'ham', 'ham', 'ham', 'ham', 'ham', 'spam', 'ham',\n",
              "        'spam', 'ham', 'ham', 'spam', 'ham', 'spam', 'spam', 'spam', 'ham',\n",
              "        'spam', 'ham', 'spam', 'ham', 'ham', 'spam'], dtype=object))"
            ]
          },
          "execution_count": 35,
          "metadata": {},
          "output_type": "execute_result"
        }
      ],
      "source": [
        "y_test, y_pred"
      ]
    },
    {
      "cell_type": "code",
      "execution_count": null,
      "id": "31a23c3f-e6d5-4d81-a9f3-b15586c447c6",
      "metadata": {
        "id": "31a23c3f-e6d5-4d81-a9f3-b15586c447c6"
      },
      "outputs": [],
      "source": [
        "from sklearn.metrics import confusion_matrix , accuracy_score, classification_report"
      ]
    },
    {
      "cell_type": "code",
      "execution_count": null,
      "id": "7f1968b0-e095-4eb9-9253-7d05ca7f0055",
      "metadata": {
        "id": "7f1968b0-e095-4eb9-9253-7d05ca7f0055",
        "outputId": "c83996b5-3195-46ca-f539-e9804a059317"
      },
      "outputs": [
        {
          "data": {
            "text/plain": [
              "0.9465478841870824"
            ]
          },
          "execution_count": 37,
          "metadata": {},
          "output_type": "execute_result"
        }
      ],
      "source": [
        "accuracy_score(y_test,y_pred)"
      ]
    },
    {
      "cell_type": "code",
      "execution_count": null,
      "id": "a5923941-fbd1-4b49-b25a-ce9ab4d9bd5f",
      "metadata": {
        "id": "a5923941-fbd1-4b49-b25a-ce9ab4d9bd5f",
        "outputId": "24a10c72-32d7-4a59-a38f-62f29d014272"
      },
      "outputs": [
        {
          "data": {
            "text/plain": [
              "array([[225,   2],\n",
              "       [ 22, 200]], dtype=int64)"
            ]
          },
          "execution_count": 38,
          "metadata": {},
          "output_type": "execute_result"
        }
      ],
      "source": [
        "confusion_matrix(y_test,y_pred)"
      ]
    },
    {
      "cell_type": "code",
      "execution_count": null,
      "id": "5cd10833-3b7f-4120-8bc9-1c52eb3335e7",
      "metadata": {
        "id": "5cd10833-3b7f-4120-8bc9-1c52eb3335e7",
        "outputId": "83298b17-1d3b-4749-8ee4-dc90ff8abc24"
      },
      "outputs": [
        {
          "name": "stdout",
          "output_type": "stream",
          "text": [
            "              precision    recall  f1-score   support\n",
            "\n",
            "         ham       0.91      0.99      0.95       227\n",
            "        spam       0.99      0.90      0.94       222\n",
            "\n",
            "    accuracy                           0.95       449\n",
            "   macro avg       0.95      0.95      0.95       449\n",
            "weighted avg       0.95      0.95      0.95       449\n",
            "\n"
          ]
        }
      ],
      "source": [
        "print(classification_report(y_test,y_pred))"
      ]
    },
    {
      "cell_type": "markdown",
      "id": "15203771-4c76-4a78-be2b-1e73eed69310",
      "metadata": {
        "id": "15203771-4c76-4a78-be2b-1e73eed69310"
      },
      "source": [
        "**5. Building SVM Model**"
      ]
    },
    {
      "cell_type": "code",
      "execution_count": null,
      "id": "c0f59e5e-4f32-49c1-8fc5-6b9f11b6ddb6",
      "metadata": {
        "id": "c0f59e5e-4f32-49c1-8fc5-6b9f11b6ddb6"
      },
      "outputs": [],
      "source": [
        "from sklearn.svm import SVC"
      ]
    },
    {
      "cell_type": "code",
      "execution_count": null,
      "id": "4e19fe31-375d-4089-91e7-74cc783975e4",
      "metadata": {
        "id": "4e19fe31-375d-4089-91e7-74cc783975e4"
      },
      "outputs": [],
      "source": [
        "svm = Pipeline([(\"tfidf\", TfidfVectorizer()) , (\"classifier\", SVC(C=100, gamma=\"auto\"))])"
      ]
    },
    {
      "cell_type": "code",
      "execution_count": null,
      "id": "929c2a71-b348-4b94-b964-184fe6c8d1c6",
      "metadata": {
        "id": "929c2a71-b348-4b94-b964-184fe6c8d1c6",
        "outputId": "3e37b489-7abb-4e6e-ff74-8b26ecc77075"
      },
      "outputs": [
        {
          "data": {
            "text/html": [
              "<style>#sk-container-id-2 {color: black;}#sk-container-id-2 pre{padding: 0;}#sk-container-id-2 div.sk-toggleable {background-color: white;}#sk-container-id-2 label.sk-toggleable__label {cursor: pointer;display: block;width: 100%;margin-bottom: 0;padding: 0.3em;box-sizing: border-box;text-align: center;}#sk-container-id-2 label.sk-toggleable__label-arrow:before {content: \"▸\";float: left;margin-right: 0.25em;color: #696969;}#sk-container-id-2 label.sk-toggleable__label-arrow:hover:before {color: black;}#sk-container-id-2 div.sk-estimator:hover label.sk-toggleable__label-arrow:before {color: black;}#sk-container-id-2 div.sk-toggleable__content {max-height: 0;max-width: 0;overflow: hidden;text-align: left;background-color: #f0f8ff;}#sk-container-id-2 div.sk-toggleable__content pre {margin: 0.2em;color: black;border-radius: 0.25em;background-color: #f0f8ff;}#sk-container-id-2 input.sk-toggleable__control:checked~div.sk-toggleable__content {max-height: 200px;max-width: 100%;overflow: auto;}#sk-container-id-2 input.sk-toggleable__control:checked~label.sk-toggleable__label-arrow:before {content: \"▾\";}#sk-container-id-2 div.sk-estimator input.sk-toggleable__control:checked~label.sk-toggleable__label {background-color: #d4ebff;}#sk-container-id-2 div.sk-label input.sk-toggleable__control:checked~label.sk-toggleable__label {background-color: #d4ebff;}#sk-container-id-2 input.sk-hidden--visually {border: 0;clip: rect(1px 1px 1px 1px);clip: rect(1px, 1px, 1px, 1px);height: 1px;margin: -1px;overflow: hidden;padding: 0;position: absolute;width: 1px;}#sk-container-id-2 div.sk-estimator {font-family: monospace;background-color: #f0f8ff;border: 1px dotted black;border-radius: 0.25em;box-sizing: border-box;margin-bottom: 0.5em;}#sk-container-id-2 div.sk-estimator:hover {background-color: #d4ebff;}#sk-container-id-2 div.sk-parallel-item::after {content: \"\";width: 100%;border-bottom: 1px solid gray;flex-grow: 1;}#sk-container-id-2 div.sk-label:hover label.sk-toggleable__label {background-color: #d4ebff;}#sk-container-id-2 div.sk-serial::before {content: \"\";position: absolute;border-left: 1px solid gray;box-sizing: border-box;top: 0;bottom: 0;left: 50%;z-index: 0;}#sk-container-id-2 div.sk-serial {display: flex;flex-direction: column;align-items: center;background-color: white;padding-right: 0.2em;padding-left: 0.2em;position: relative;}#sk-container-id-2 div.sk-item {position: relative;z-index: 1;}#sk-container-id-2 div.sk-parallel {display: flex;align-items: stretch;justify-content: center;background-color: white;position: relative;}#sk-container-id-2 div.sk-item::before, #sk-container-id-2 div.sk-parallel-item::before {content: \"\";position: absolute;border-left: 1px solid gray;box-sizing: border-box;top: 0;bottom: 0;left: 50%;z-index: -1;}#sk-container-id-2 div.sk-parallel-item {display: flex;flex-direction: column;z-index: 1;position: relative;background-color: white;}#sk-container-id-2 div.sk-parallel-item:first-child::after {align-self: flex-end;width: 50%;}#sk-container-id-2 div.sk-parallel-item:last-child::after {align-self: flex-start;width: 50%;}#sk-container-id-2 div.sk-parallel-item:only-child::after {width: 0;}#sk-container-id-2 div.sk-dashed-wrapped {border: 1px dashed gray;margin: 0 0.4em 0.5em 0.4em;box-sizing: border-box;padding-bottom: 0.4em;background-color: white;}#sk-container-id-2 div.sk-label label {font-family: monospace;font-weight: bold;display: inline-block;line-height: 1.2em;}#sk-container-id-2 div.sk-label-container {text-align: center;}#sk-container-id-2 div.sk-container {/* jupyter's `normalize.less` sets `[hidden] { display: none; }` but bootstrap.min.css set `[hidden] { display: none !important; }` so we also need the `!important` here to be able to override the default hidden behavior on the sphinx rendered scikit-learn.org. See: https://github.com/scikit-learn/scikit-learn/issues/21755 */display: inline-block !important;position: relative;}#sk-container-id-2 div.sk-text-repr-fallback {display: none;}</style><div id=\"sk-container-id-2\" class=\"sk-top-container\"><div class=\"sk-text-repr-fallback\"><pre>Pipeline(steps=[(&#x27;tfidf&#x27;, TfidfVectorizer()),\n",
              "                (&#x27;classifier&#x27;, SVC(C=100, gamma=&#x27;auto&#x27;))])</pre><b>In a Jupyter environment, please rerun this cell to show the HTML representation or trust the notebook. <br />On GitHub, the HTML representation is unable to render, please try loading this page with nbviewer.org.</b></div><div class=\"sk-container\" hidden><div class=\"sk-item sk-dashed-wrapped\"><div class=\"sk-label-container\"><div class=\"sk-label sk-toggleable\"><input class=\"sk-toggleable__control sk-hidden--visually\" id=\"sk-estimator-id-4\" type=\"checkbox\" ><label for=\"sk-estimator-id-4\" class=\"sk-toggleable__label sk-toggleable__label-arrow\">Pipeline</label><div class=\"sk-toggleable__content\"><pre>Pipeline(steps=[(&#x27;tfidf&#x27;, TfidfVectorizer()),\n",
              "                (&#x27;classifier&#x27;, SVC(C=100, gamma=&#x27;auto&#x27;))])</pre></div></div></div><div class=\"sk-serial\"><div class=\"sk-item\"><div class=\"sk-estimator sk-toggleable\"><input class=\"sk-toggleable__control sk-hidden--visually\" id=\"sk-estimator-id-5\" type=\"checkbox\" ><label for=\"sk-estimator-id-5\" class=\"sk-toggleable__label sk-toggleable__label-arrow\">TfidfVectorizer</label><div class=\"sk-toggleable__content\"><pre>TfidfVectorizer()</pre></div></div></div><div class=\"sk-item\"><div class=\"sk-estimator sk-toggleable\"><input class=\"sk-toggleable__control sk-hidden--visually\" id=\"sk-estimator-id-6\" type=\"checkbox\" ><label for=\"sk-estimator-id-6\" class=\"sk-toggleable__label sk-toggleable__label-arrow\">SVC</label><div class=\"sk-toggleable__content\"><pre>SVC(C=100, gamma=&#x27;auto&#x27;)</pre></div></div></div></div></div></div></div>"
            ],
            "text/plain": [
              "Pipeline(steps=[('tfidf', TfidfVectorizer()),\n",
              "                ('classifier', SVC(C=100, gamma='auto'))])"
            ]
          },
          "execution_count": 42,
          "metadata": {},
          "output_type": "execute_result"
        }
      ],
      "source": [
        "svm.fit(x_train,y_train)"
      ]
    },
    {
      "cell_type": "markdown",
      "id": "5dabe700-8729-4c9b-a09b-2b04d194f102",
      "metadata": {
        "id": "5dabe700-8729-4c9b-a09b-2b04d194f102"
      },
      "source": [
        "**6. Predicting SVM Model**"
      ]
    },
    {
      "cell_type": "code",
      "execution_count": null,
      "id": "78d8113d-d628-4173-b57f-12f026f208c4",
      "metadata": {
        "id": "78d8113d-d628-4173-b57f-12f026f208c4"
      },
      "outputs": [],
      "source": [
        "y_pred1 = svm.predict(x_tets)"
      ]
    },
    {
      "cell_type": "code",
      "execution_count": null,
      "id": "ff8fad44-d784-4eb5-b8b1-64545897d9b7",
      "metadata": {
        "id": "ff8fad44-d784-4eb5-b8b1-64545897d9b7",
        "outputId": "8aacae44-2136-4e27-f2eb-2506603f7f89"
      },
      "outputs": [
        {
          "data": {
            "text/plain": [
              "0.9510022271714922"
            ]
          },
          "execution_count": 49,
          "metadata": {},
          "output_type": "execute_result"
        }
      ],
      "source": [
        "accuracy_score(y_test,y_pred1)"
      ]
    },
    {
      "cell_type": "code",
      "execution_count": null,
      "id": "1870a983-8785-4478-877a-1229163ce4ea",
      "metadata": {
        "id": "1870a983-8785-4478-877a-1229163ce4ea",
        "outputId": "0ec387e1-d949-4064-a416-641ad42f78b2"
      },
      "outputs": [
        {
          "data": {
            "text/plain": [
              "array([[224,   3],\n",
              "       [ 19, 203]], dtype=int64)"
            ]
          },
          "execution_count": 50,
          "metadata": {},
          "output_type": "execute_result"
        }
      ],
      "source": [
        "confusion_matrix(y_test,y_pred1)"
      ]
    },
    {
      "cell_type": "code",
      "execution_count": null,
      "id": "1840cffb-7789-4c3d-b71c-044fd40350f1",
      "metadata": {
        "id": "1840cffb-7789-4c3d-b71c-044fd40350f1",
        "outputId": "000d82f8-1698-4cec-ee0d-89f1030ee0b8"
      },
      "outputs": [
        {
          "name": "stdout",
          "output_type": "stream",
          "text": [
            "              precision    recall  f1-score   support\n",
            "\n",
            "         ham       0.92      0.99      0.95       227\n",
            "        spam       0.99      0.91      0.95       222\n",
            "\n",
            "    accuracy                           0.95       449\n",
            "   macro avg       0.95      0.95      0.95       449\n",
            "weighted avg       0.95      0.95      0.95       449\n",
            "\n"
          ]
        }
      ],
      "source": [
        "print(classification_report(y_test,y_pred1))"
      ]
    },
    {
      "cell_type": "markdown",
      "id": "d6dcfb20-8beb-4f4b-a2d3-7cdef7954294",
      "metadata": {
        "id": "d6dcfb20-8beb-4f4b-a2d3-7cdef7954294"
      },
      "source": [
        "**7. Predict Testing Data**"
      ]
    },
    {
      "cell_type": "code",
      "execution_count": null,
      "id": "5509454e-e0ab-4f84-99ba-d10a231d0976",
      "metadata": {
        "id": "5509454e-e0ab-4f84-99ba-d10a231d0976"
      },
      "outputs": [],
      "source": [
        "test1 = ['Hello, You are learning natural Language Processing']\n",
        "test2 = ['Hope you are doing good and learning new things !']\n",
        "test3 = ['Congratulations, You won a lottery ticket worth $1 Million ! To claim call on 446677']"
      ]
    },
    {
      "cell_type": "code",
      "execution_count": null,
      "id": "aaaf497b-c9f4-4e46-8adf-cedbea50ef71",
      "metadata": {
        "id": "aaaf497b-c9f4-4e46-8adf-cedbea50ef71",
        "outputId": "6aac9f67-0bd9-4ee8-d677-2a0c79a1be9a"
      },
      "outputs": [
        {
          "data": {
            "text/plain": [
              "array(['ham'], dtype=object)"
            ]
          },
          "execution_count": 57,
          "metadata": {},
          "output_type": "execute_result"
        }
      ],
      "source": [
        "classifier.predict(test1)"
      ]
    },
    {
      "cell_type": "code",
      "execution_count": null,
      "id": "06d136f4-275c-4284-b5c9-f1e1c8b869fc",
      "metadata": {
        "id": "06d136f4-275c-4284-b5c9-f1e1c8b869fc",
        "outputId": "59868877-b423-4a59-db00-98cfac4048b6"
      },
      "outputs": [
        {
          "name": "stdout",
          "output_type": "stream",
          "text": [
            "['ham']\n",
            "['ham']\n",
            "['spam']\n"
          ]
        }
      ],
      "source": [
        "print(classifier.predict(test1))\n",
        "print(classifier.predict(test2))\n",
        "print(classifier.predict(test3))"
      ]
    },
    {
      "cell_type": "code",
      "execution_count": null,
      "id": "e2cad2a2-0586-4955-b40d-fd1b94fffbe7",
      "metadata": {
        "id": "e2cad2a2-0586-4955-b40d-fd1b94fffbe7",
        "outputId": "82cc3ed7-7b1c-479a-fd19-37b4296106b6"
      },
      "outputs": [
        {
          "name": "stdout",
          "output_type": "stream",
          "text": [
            "['ham']\n",
            "['ham']\n",
            "['spam']\n"
          ]
        }
      ],
      "source": [
        "print(svm.predict(test1))\n",
        "print(svm.predict(test2))\n",
        "print(svm.predict(test3))"
      ]
    },
    {
      "cell_type": "code",
      "execution_count": null,
      "id": "6271b14b-b711-4eff-b599-1a9e064bc67b",
      "metadata": {
        "id": "6271b14b-b711-4eff-b599-1a9e064bc67b"
      },
      "outputs": [],
      "source": []
    }
  ],
  "metadata": {
    "kernelspec": {
      "display_name": "Python 3 (ipykernel)",
      "language": "python",
      "name": "python3"
    },
    "language_info": {
      "codemirror_mode": {
        "name": "ipython",
        "version": 3
      },
      "file_extension": ".py",
      "mimetype": "text/x-python",
      "name": "python",
      "nbconvert_exporter": "python",
      "pygments_lexer": "ipython3",
      "version": "3.9.13"
    },
    "colab": {
      "provenance": [],
      "include_colab_link": true
    }
  },
  "nbformat": 4,
  "nbformat_minor": 5
}